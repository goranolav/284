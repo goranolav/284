{
 "cells": [
  {
   "cell_type": "code",
   "execution_count": null,
   "metadata": {},
   "outputs": [],
   "source": [
    "#Inspirasjon / kilder = https://stackabuse.com/linear-regression-in-python-with-scikit-learn/\n",
    "import matplotlib.pyplot as plt\n",
    "import numpy as np\n",
    "import pandas as pd"
   ]
  },
  {
   "cell_type": "code",
   "execution_count": null,
   "metadata": {},
   "outputs": [],
   "source": [
    "data = pd.read_csv('/Users/eliasnilsen/Desktop/Studie/VÅR2021/INFO284/Exam/nyc-rolling-sales.csv')"
   ]
  },
  {
   "cell_type": "code",
   "execution_count": null,
   "metadata": {},
   "outputs": [],
   "source": [
    "data.head()"
   ]
  },
  {
   "cell_type": "code",
   "execution_count": null,
   "metadata": {},
   "outputs": [],
   "source": [
    "#Sletter ubrukelig data\n",
    "data.drop('Unnamed: 0', axis=1, inplace=True)\n",
    "data.drop('EASE-MENT', axis=1, inplace=True)"
   ]
  },
  {
   "cell_type": "code",
   "execution_count": null,
   "metadata": {},
   "outputs": [],
   "source": [
    "#Sjekker for duplicates i datasettet\n",
    "sum(data.duplicated())"
   ]
  },
  {
   "cell_type": "code",
   "execution_count": null,
   "metadata": {},
   "outputs": [],
   "source": [
    "#Sletter duplicates og sjekker om det funket\n",
    "data = data.drop_duplicates(data.columns, keep='last')\n",
    "sum(data.duplicated())"
   ]
  },
  {
   "cell_type": "code",
   "execution_count": null,
   "metadata": {},
   "outputs": [],
   "source": [
    "#Noen av feltene inneholder et - tegn, vi bytter ut disse med 0\n",
    "#' -  ' finnes i en eller flere celler, vi må fjerne denne for å unngå errors\n",
    "data['GROSS SQUARE FEET'] = data['GROSS SQUARE FEET'].str.strip()\n",
    "data['SALE PRICE'] = data['SALE PRICE'].str.strip()\n",
    "data.replace({\"-\":0},inplace=True)\n",
    "data.replace(' ',np.nan, inplace=True)\n",
    "#Tomt felt som ikke er satt opp riktig\n",
    "data.replace(' -  ', np.nan)\n",
    "df1=data.copy()"
   ]
  },
  {
   "cell_type": "code",
   "execution_count": null,
   "metadata": {},
   "outputs": [],
   "source": [
    "#Sjekker datatypen i settet\n",
    "data.info()"
   ]
  },
  {
   "cell_type": "code",
   "execution_count": null,
   "metadata": {},
   "outputs": [],
   "source": [
    "df1.dropna()\n",
    "df1[['GROSS SQUARE FEET', 'SALE PRICE']] = df1[['GROSS SQUARE FEET', 'SALE PRICE']].astype(int)\n",
    "df1.info()\n",
    "df1.head()"
   ]
  },
  {
   "cell_type": "code",
   "execution_count": null,
   "metadata": {},
   "outputs": [],
   "source": [
    "#Vi vil bruke dataen fra GROSS SQUARE FEET kollonen til å forutse SALE PRICE\n",
    "X = df1['GROSS SQUARE FEET'].values.reshape(-1, 1)\n",
    "y = df1['SALE PRICE'].values.reshape(-1, 1)"
   ]
  },
  {
   "cell_type": "code",
   "execution_count": null,
   "metadata": {},
   "outputs": [],
   "source": [
    "#Deler opp dataen til trening og testing av modellen\n",
    "from sklearn.model_selection import train_test_split\n",
    "X_train, X_test, y_train, y_test = train_test_split(X, y, test_size=0.2, random_state=0)"
   ]
  },
  {
   "cell_type": "code",
   "execution_count": null,
   "metadata": {},
   "outputs": [],
   "source": [
    "#Trener dataen\n",
    "from sklearn.linear_model import LinearRegression\n",
    "regressor = LinearRegression()\n",
    "regressor.fit(X_train, y_train)"
   ]
  },
  {
   "cell_type": "code",
   "execution_count": null,
   "metadata": {},
   "outputs": [],
   "source": [
    "#Intercept og slope\n",
    "print(X.shape)\n",
    "print(y.shape)\n",
    "print(\"regressor.coef_: {}\".format(regressor.coef_))\n",
    "print(\"regressor.intercept_: {}\".format(regressor.intercept_))"
   ]
  },
  {
   "cell_type": "code",
   "execution_count": null,
   "metadata": {},
   "outputs": [],
   "source": [
    "print(\"Training set score:  {:.2f}\".format(regressor.score(X_train,y_train)))\n",
    "print(\"Test set score:  {:.2f}\".format(regressor.score(X_train,y_test)))"
   ]
  },
  {
   "cell_type": "code",
   "execution_count": null,
   "metadata": {},
   "outputs": [],
   "source": []
  }
 ],
 "metadata": {
  "kernelspec": {
   "display_name": "Python 3",
   "language": "python",
   "name": "python3"
  },
  "language_info": {
   "codemirror_mode": {
    "name": "ipython",
    "version": 3
   },
   "file_extension": ".py",
   "mimetype": "text/x-python",
   "name": "python",
   "nbconvert_exporter": "python",
   "pygments_lexer": "ipython3",
   "version": "3.8.5"
  }
 },
 "nbformat": 4,
 "nbformat_minor": 4
}
